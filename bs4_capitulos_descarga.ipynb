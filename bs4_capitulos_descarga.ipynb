{
 "cells": [
  {
   "cell_type": "code",
   "execution_count": 5,
   "metadata": {},
   "outputs": [],
   "source": [
    "import os\n",
    "import requests"
   ]
  },
  {
   "cell_type": "code",
   "execution_count": 6,
   "metadata": {},
   "outputs": [
    {
     "name": "stdout",
     "output_type": "stream",
     "text": [
      "Imagen guardada en: 1images\\23efdfb5-4d59-444d-8bb0-ef9e3bf3cae0.jpg\n"
     ]
    }
   ],
   "source": [
    "\n",
    "\n",
    "def descargar_imagen(ruta_guardado, url_imagen):\n",
    "    \"\"\"\n",
    "    Descarga una imagen desde la URL proporcionada y la guarda en la ruta especificada.\n",
    "\n",
    "    Parámetros:\n",
    "    ruta_guardado (str): La ruta del directorio donde se guardará la imagen.\n",
    "    url_imagen (str): La URL de la imagen que se va a descargar.\n",
    "\n",
    "    \"\"\"\n",
    "    # Realizar una solicitud GET a la URL\n",
    "    response = requests.get(url_imagen)\n",
    "\n",
    "    # Verificar si la solicitud fue exitosa\n",
    "    if response.status_code == 200:\n",
    "        # Crear la carpeta donde se guardará la imagen\n",
    "        os.makedirs(ruta_guardado, exist_ok=True)\n",
    "        \n",
    "        # Obtener el nombre de la imagen desde la URL y agregar la extensión .jpg\n",
    "        image_name = url_imagen.split('/')[-1] + '.jpg'\n",
    "        \n",
    "        # Ruta completa donde se guardará la imagen\n",
    "        image_path = os.path.join(ruta_guardado, image_name)\n",
    "        \n",
    "        # Guardar la imagen en el directorio especificado\n",
    "        with open(image_path, 'wb') as f:\n",
    "            f.write(response.content)\n",
    "        \n",
    "        print(f'Imagen guardada en: {image_path}')\n",
    "    else:\n",
    "        print(f'Error al descargar la imagen. Código de estado: {response.status_code}')\n",
    "\n",
    "# Ejemplo de uso de la función\n",
    "ruta = '1images'\n",
    "url = 'https://pack-yak.intomanga.com/images/manga/Goblin-Slayer-Year-One/chapter/1/page/1/23efdfb5-4d59-444d-8bb0-ef9e3bf3cae0'\n",
    "descargar_imagen(ruta, url)\n"
   ]
  }
 ],
 "metadata": {
  "kernelspec": {
   "display_name": "venv",
   "language": "python",
   "name": "python3"
  },
  "language_info": {
   "codemirror_mode": {
    "name": "ipython",
    "version": 3
   },
   "file_extension": ".py",
   "mimetype": "text/x-python",
   "name": "python",
   "nbconvert_exporter": "python",
   "pygments_lexer": "ipython3",
   "version": "3.12.4"
  }
 },
 "nbformat": 4,
 "nbformat_minor": 2
}
